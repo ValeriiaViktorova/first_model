{
 "cells": [
  {
   "cell_type": "markdown",
   "metadata": {},
   "source": [
    "# Рекомендация тарифов"
   ]
  },
  {
   "cell_type": "markdown",
   "metadata": {},
   "source": [
    "В вашем распоряжении данные о поведении клиентов, которые уже перешли на эти тарифы (из проекта курса «Статистический анализ данных»). Нужно построить модель для задачи классификации, которая выберет подходящий тариф. Предобработка данных не понадобится — вы её уже сделали.\n",
    "\n",
    "Постройте модель с максимально большим значением *accuracy*. Чтобы сдать проект успешно, нужно довести долю правильных ответов по крайней мере до 0.75. Проверьте *accuracy* на тестовой выборке самостоятельно."
   ]
  },
  {
   "cell_type": "markdown",
   "metadata": {},
   "source": [
    "## Откройте и изучите файл"
   ]
  },
  {
   "cell_type": "code",
   "execution_count": 1,
   "metadata": {},
   "outputs": [],
   "source": [
    "# Импорт библиотек\n",
    "import pandas as pd\n",
    "from sklearn.tree import DecisionTreeClassifier\n",
    "from sklearn.linear_model import LogisticRegression\n",
    "from sklearn.ensemble import RandomForestClassifier\n",
    "from sklearn.model_selection import train_test_split\n",
    "from sklearn.dummy import DummyClassifier\n",
    "from sklearn.metrics import accuracy_score\n",
    "from sklearn.metrics import precision_score\n",
    "from sklearn.metrics import recall_score\n",
    "from sklearn.metrics import f1_score\n",
    "import warnings\n",
    "warnings.filterwarnings('ignore')"
   ]
  },
  {
   "cell_type": "code",
   "execution_count": 2,
   "metadata": {},
   "outputs": [],
   "source": [
    "df = pd.read_csv('/datasets/users_behavior.csv')"
   ]
  },
  {
   "cell_type": "code",
   "execution_count": 3,
   "metadata": {},
   "outputs": [
    {
     "name": "stdout",
     "output_type": "stream",
     "text": [
      "<class 'pandas.core.frame.DataFrame'>\n",
      "RangeIndex: 3214 entries, 0 to 3213\n",
      "Data columns (total 5 columns):\n",
      "calls       3214 non-null float64\n",
      "minutes     3214 non-null float64\n",
      "messages    3214 non-null float64\n",
      "mb_used     3214 non-null float64\n",
      "is_ultra    3214 non-null int64\n",
      "dtypes: float64(4), int64(1)\n",
      "memory usage: 125.7 KB\n"
     ]
    }
   ],
   "source": [
    "df.info()"
   ]
  },
  {
   "cell_type": "code",
   "execution_count": 4,
   "metadata": {},
   "outputs": [
    {
     "data": {
      "text/html": [
       "<div>\n",
       "<style scoped>\n",
       "    .dataframe tbody tr th:only-of-type {\n",
       "        vertical-align: middle;\n",
       "    }\n",
       "\n",
       "    .dataframe tbody tr th {\n",
       "        vertical-align: top;\n",
       "    }\n",
       "\n",
       "    .dataframe thead th {\n",
       "        text-align: right;\n",
       "    }\n",
       "</style>\n",
       "<table border=\"1\" class=\"dataframe\">\n",
       "  <thead>\n",
       "    <tr style=\"text-align: right;\">\n",
       "      <th></th>\n",
       "      <th>calls</th>\n",
       "      <th>minutes</th>\n",
       "      <th>messages</th>\n",
       "      <th>mb_used</th>\n",
       "      <th>is_ultra</th>\n",
       "    </tr>\n",
       "  </thead>\n",
       "  <tbody>\n",
       "    <tr>\n",
       "      <td>0</td>\n",
       "      <td>40.0</td>\n",
       "      <td>311.90</td>\n",
       "      <td>83.0</td>\n",
       "      <td>19915.42</td>\n",
       "      <td>0</td>\n",
       "    </tr>\n",
       "    <tr>\n",
       "      <td>1</td>\n",
       "      <td>85.0</td>\n",
       "      <td>516.75</td>\n",
       "      <td>56.0</td>\n",
       "      <td>22696.96</td>\n",
       "      <td>0</td>\n",
       "    </tr>\n",
       "    <tr>\n",
       "      <td>2</td>\n",
       "      <td>77.0</td>\n",
       "      <td>467.66</td>\n",
       "      <td>86.0</td>\n",
       "      <td>21060.45</td>\n",
       "      <td>0</td>\n",
       "    </tr>\n",
       "    <tr>\n",
       "      <td>3</td>\n",
       "      <td>106.0</td>\n",
       "      <td>745.53</td>\n",
       "      <td>81.0</td>\n",
       "      <td>8437.39</td>\n",
       "      <td>1</td>\n",
       "    </tr>\n",
       "    <tr>\n",
       "      <td>4</td>\n",
       "      <td>66.0</td>\n",
       "      <td>418.74</td>\n",
       "      <td>1.0</td>\n",
       "      <td>14502.75</td>\n",
       "      <td>0</td>\n",
       "    </tr>\n",
       "  </tbody>\n",
       "</table>\n",
       "</div>"
      ],
      "text/plain": [
       "   calls  minutes  messages   mb_used  is_ultra\n",
       "0   40.0   311.90      83.0  19915.42         0\n",
       "1   85.0   516.75      56.0  22696.96         0\n",
       "2   77.0   467.66      86.0  21060.45         0\n",
       "3  106.0   745.53      81.0   8437.39         1\n",
       "4   66.0   418.74       1.0  14502.75         0"
      ]
     },
     "execution_count": 4,
     "metadata": {},
     "output_type": "execute_result"
    }
   ],
   "source": [
    "#знакомимся с данными\n",
    "df.head()"
   ]
  },
  {
   "cell_type": "code",
   "execution_count": 5,
   "metadata": {},
   "outputs": [
    {
     "data": {
      "text/plain": [
       "0"
      ]
     },
     "execution_count": 5,
     "metadata": {},
     "output_type": "execute_result"
    }
   ],
   "source": [
    "#проверяем на дубликаты\n",
    "df.duplicated().sum()"
   ]
  },
  {
   "cell_type": "code",
   "execution_count": 6,
   "metadata": {},
   "outputs": [
    {
     "data": {
      "text/plain": [
       "calls       0\n",
       "minutes     0\n",
       "messages    0\n",
       "mb_used     0\n",
       "is_ultra    0\n",
       "dtype: int64"
      ]
     },
     "execution_count": 6,
     "metadata": {},
     "output_type": "execute_result"
    }
   ],
   "source": [
    "#смотрим пропущенные значения\n",
    "df.isna().sum()"
   ]
  },
  {
   "cell_type": "code",
   "execution_count": 7,
   "metadata": {},
   "outputs": [
    {
     "data": {
      "text/html": [
       "<div>\n",
       "<style scoped>\n",
       "    .dataframe tbody tr th:only-of-type {\n",
       "        vertical-align: middle;\n",
       "    }\n",
       "\n",
       "    .dataframe tbody tr th {\n",
       "        vertical-align: top;\n",
       "    }\n",
       "\n",
       "    .dataframe thead th {\n",
       "        text-align: right;\n",
       "    }\n",
       "</style>\n",
       "<table border=\"1\" class=\"dataframe\">\n",
       "  <thead>\n",
       "    <tr style=\"text-align: right;\">\n",
       "      <th></th>\n",
       "      <th>calls</th>\n",
       "      <th>minutes</th>\n",
       "      <th>messages</th>\n",
       "      <th>mb_used</th>\n",
       "      <th>is_ultra</th>\n",
       "    </tr>\n",
       "  </thead>\n",
       "  <tbody>\n",
       "    <tr>\n",
       "      <td>count</td>\n",
       "      <td>3214.000000</td>\n",
       "      <td>3214.000000</td>\n",
       "      <td>3214.000000</td>\n",
       "      <td>3214.000000</td>\n",
       "      <td>3214.000000</td>\n",
       "    </tr>\n",
       "    <tr>\n",
       "      <td>mean</td>\n",
       "      <td>63.038892</td>\n",
       "      <td>438.208787</td>\n",
       "      <td>38.281269</td>\n",
       "      <td>17207.673836</td>\n",
       "      <td>0.306472</td>\n",
       "    </tr>\n",
       "    <tr>\n",
       "      <td>std</td>\n",
       "      <td>33.236368</td>\n",
       "      <td>234.569872</td>\n",
       "      <td>36.148326</td>\n",
       "      <td>7570.968246</td>\n",
       "      <td>0.461100</td>\n",
       "    </tr>\n",
       "    <tr>\n",
       "      <td>min</td>\n",
       "      <td>0.000000</td>\n",
       "      <td>0.000000</td>\n",
       "      <td>0.000000</td>\n",
       "      <td>0.000000</td>\n",
       "      <td>0.000000</td>\n",
       "    </tr>\n",
       "    <tr>\n",
       "      <td>25%</td>\n",
       "      <td>40.000000</td>\n",
       "      <td>274.575000</td>\n",
       "      <td>9.000000</td>\n",
       "      <td>12491.902500</td>\n",
       "      <td>0.000000</td>\n",
       "    </tr>\n",
       "    <tr>\n",
       "      <td>50%</td>\n",
       "      <td>62.000000</td>\n",
       "      <td>430.600000</td>\n",
       "      <td>30.000000</td>\n",
       "      <td>16943.235000</td>\n",
       "      <td>0.000000</td>\n",
       "    </tr>\n",
       "    <tr>\n",
       "      <td>75%</td>\n",
       "      <td>82.000000</td>\n",
       "      <td>571.927500</td>\n",
       "      <td>57.000000</td>\n",
       "      <td>21424.700000</td>\n",
       "      <td>1.000000</td>\n",
       "    </tr>\n",
       "    <tr>\n",
       "      <td>max</td>\n",
       "      <td>244.000000</td>\n",
       "      <td>1632.060000</td>\n",
       "      <td>224.000000</td>\n",
       "      <td>49745.730000</td>\n",
       "      <td>1.000000</td>\n",
       "    </tr>\n",
       "  </tbody>\n",
       "</table>\n",
       "</div>"
      ],
      "text/plain": [
       "             calls      minutes     messages       mb_used     is_ultra\n",
       "count  3214.000000  3214.000000  3214.000000   3214.000000  3214.000000\n",
       "mean     63.038892   438.208787    38.281269  17207.673836     0.306472\n",
       "std      33.236368   234.569872    36.148326   7570.968246     0.461100\n",
       "min       0.000000     0.000000     0.000000      0.000000     0.000000\n",
       "25%      40.000000   274.575000     9.000000  12491.902500     0.000000\n",
       "50%      62.000000   430.600000    30.000000  16943.235000     0.000000\n",
       "75%      82.000000   571.927500    57.000000  21424.700000     1.000000\n",
       "max     244.000000  1632.060000   224.000000  49745.730000     1.000000"
      ]
     },
     "execution_count": 7,
     "metadata": {},
     "output_type": "execute_result"
    }
   ],
   "source": [
    "df.describe()"
   ]
  },
  {
   "cell_type": "markdown",
   "metadata": {},
   "source": [
    "Ознакомились с данными.В данных отсутствуют дубликаты и пропущенные значения. Можно переходить к следующему этапу."
   ]
  },
  {
   "cell_type": "markdown",
   "metadata": {},
   "source": [
    "## Разбейте данные на выборки"
   ]
  },
  {
   "cell_type": "markdown",
   "metadata": {},
   "source": [
    "Разобъем выборку в пропорции 60/20/20"
   ]
  },
  {
   "cell_type": "code",
   "execution_count": 8,
   "metadata": {},
   "outputs": [
    {
     "name": "stdout",
     "output_type": "stream",
     "text": [
      "Размер обучающей выборки 1928\n",
      "Размер валидационной выборки 643\n",
      "Размер тестовой выборки 643\n"
     ]
    }
   ],
   "source": [
    "train_df, vnt_df = train_test_split(df, test_size=0.40, random_state=123456)\n",
    "valid_df, test_df = train_test_split(vnt_df, test_size=0.50, random_state=123456)\n",
    "\n",
    "print('Размер обучающей выборки', train_df.shape[0])\n",
    "print('Размер валидационной выборки', valid_df.shape[0])\n",
    "print('Размер тестовой выборки', test_df.shape[0])"
   ]
  },
  {
   "cell_type": "markdown",
   "metadata": {},
   "source": [
    "Выделим целевые признаки"
   ]
  },
  {
   "cell_type": "code",
   "execution_count": 9,
   "metadata": {},
   "outputs": [],
   "source": [
    "train_df_features = train_df.drop(['is_ultra'], axis=1)\n",
    "train_df_target = train_df['is_ultra']\n",
    "valid_df_features = valid_df.drop(['is_ultra'], axis=1)\n",
    "valid_df_target = valid_df['is_ultra']\n",
    "test_df_features = test_df.drop(['is_ultra'], axis=1)\n",
    "test_df_target = test_df['is_ultra']"
   ]
  },
  {
   "cell_type": "markdown",
   "metadata": {},
   "source": [
    "**Вывод**\n",
    "\n",
    "Данные были разбиты по пропорции: 60 - трейн / 20 - валидация / 20 - тест\n",
    "\n",
    "Обучение пройдет на данных train_df\n",
    "\n",
    "Подбор гиперпараметров на данных valid_df\n",
    "\n",
    "Лучшая модель по валидации будет применена на данных test_df"
   ]
  },
  {
   "cell_type": "markdown",
   "metadata": {},
   "source": [
    "## Исследуйте модели"
   ]
  },
  {
   "cell_type": "markdown",
   "metadata": {},
   "source": [
    "**Tree classifier**"
   ]
  },
  {
   "cell_type": "code",
   "execution_count": 10,
   "metadata": {},
   "outputs": [
    {
     "name": "stdout",
     "output_type": "stream",
     "text": [
      "Глубина дерева 1 Точность 0.7309486780715396\n",
      "Глубина дерева 2 Точность 0.7713841368584758\n",
      "Глубина дерева 3 Точность 0.7916018662519441\n",
      "Глубина дерева 4 Точность 0.7900466562986003\n",
      "Глубина дерева 5 Точность 0.7978227060653188\n",
      "Глубина дерева 6 Точность 0.7916018662519441\n",
      "Глубина дерева 7 Точность 0.7822706065318819\n",
      "Глубина дерева 8 Точность 0.7900466562986003\n",
      "Глубина дерева 9 Точность 0.7853810264385692\n",
      "Глубина дерева 10 Точность 0.7713841368584758\n",
      "Глубина дерева 11 Точность 0.7807153965785381\n",
      "Глубина дерева 12 Точность 0.76049766718507\n",
      "Глубина дерева 13 Точность 0.7558320373250389\n",
      "Глубина дерева 14 Точность 0.7402799377916018\n",
      "Глубина дерева 15 Точность 0.7325038880248833\n",
      "Глубина дерева 16 Точность 0.7262830482115086\n",
      "Глубина дерева 17 Точность 0.7340590979782271\n",
      "Глубина дерева 18 Точность 0.7200622083981337\n",
      "Глубина дерева 19 Точность 0.7153965785381027\n",
      "Лучшая глубина дерева 5 Лучшая точность 0.7978227060653188\n"
     ]
    }
   ],
   "source": [
    "best_depth = 0\n",
    "best_accuracy = 0\n",
    "\n",
    "for depth in range(1,20):\n",
    "    model = DecisionTreeClassifier(random_state=123456, max_depth=depth)\n",
    "    model.fit(train_df_features, train_df_target)\n",
    "    valid_predictions = model.predict(valid_df_features)\n",
    "    accuracy = accuracy_score(valid_df_target, valid_predictions)\n",
    "    print('Глубина дерева', depth,'Точность', accuracy)\n",
    "    if accuracy > best_accuracy:\n",
    "        best_depth = depth\n",
    "        best_accuracy = accuracy\n",
    "\n",
    "print('Лучшая глубина дерева', best_depth,'Лучшая точность', best_accuracy)   "
   ]
  },
  {
   "cell_type": "markdown",
   "metadata": {},
   "source": [
    "**Randomforest**"
   ]
  },
  {
   "cell_type": "code",
   "execution_count": 11,
   "metadata": {},
   "outputs": [
    {
     "name": "stdout",
     "output_type": "stream",
     "text": [
      "Глубина дерева: 7     Количество деревьев: 35 минимум объектов в узле: 2   Качество: 0.8180404354587869\n",
      "None\n"
     ]
    }
   ],
   "source": [
    "best_accuracy = 0\n",
    "best_depth = 0\n",
    "for depth in range(1,20):\n",
    "    for est in range(5,50,5):\n",
    "        for sample in range(2,8):\n",
    "            model = RandomForestClassifier(max_depth=depth, n_estimators=est, min_samples_leaf=sample, random_state=123456)\n",
    "            model.fit(train_df_features, train_df_target)\n",
    "            accuracy = model.score(valid_df_features, valid_df_target)\n",
    "            if accuracy > best_accuracy:\n",
    "                best_accuracy = accuracy\n",
    "                best_depth = depth\n",
    "                best_est = est\n",
    "                best_sample = sample\n",
    "print(print(\"Глубина дерева:\", best_depth, \"    Количество деревьев:\", best_est, \"минимум объектов в узле:\", best_sample, \"  Качество:\", best_accuracy))    "
   ]
  },
  {
   "cell_type": "markdown",
   "metadata": {},
   "source": [
    "**Logistic Regression**"
   ]
  },
  {
   "cell_type": "code",
   "execution_count": 12,
   "metadata": {},
   "outputs": [
    {
     "name": "stdout",
     "output_type": "stream",
     "text": [
      "Accuracy модели на валидационной выборке: 0.6842923794712286\n"
     ]
    }
   ],
   "source": [
    "model = LogisticRegression(random_state=123456)\n",
    "model.fit(train_df_features, train_df_target)\n",
    "accuracy = model.score(valid_df_features, valid_df_target)\n",
    "print(\"Accuracy модели на валидационной выборке:\", accuracy)"
   ]
  },
  {
   "cell_type": "markdown",
   "metadata": {},
   "source": [
    "**Вывод**\n",
    "\n",
    "  В ходе исследования были получены следующие данные:\n",
    "\n",
    "* Точность модели решающего дерева при глубине 5 равна 0.7978227060653188\n",
    "\n",
    "* Точность модели случайного леса при количестве деревьев 7 равна  0.8180404354587869\n",
    "\n",
    "* Точность модели логистической регресии равна 0.6842923794712286 \n",
    "\n",
    "* Учитывая, что выборка небольшая, то лучший результат показывает модель случайного леса"
   ]
  },
  {
   "cell_type": "markdown",
   "metadata": {},
   "source": [
    "## Проверьте модель на тестовой выборке"
   ]
  },
  {
   "cell_type": "markdown",
   "metadata": {},
   "source": [
    "Оценим точность всех моделей на тестовой выборке"
   ]
  },
  {
   "cell_type": "markdown",
   "metadata": {},
   "source": [
    "**Tree classifier**"
   ]
  },
  {
   "cell_type": "code",
   "execution_count": 13,
   "metadata": {},
   "outputs": [
    {
     "name": "stdout",
     "output_type": "stream",
     "text": [
      "Качество: 0.8087091757387247\n"
     ]
    }
   ],
   "source": [
    "model = DecisionTreeClassifier(max_depth=5, random_state=123456)\n",
    "model.fit(train_df_features, train_df_target)\n",
    "accuracy = model.score(test_df_features, test_df_target)\n",
    "print(\"Качество:\", accuracy)"
   ]
  },
  {
   "cell_type": "markdown",
   "metadata": {},
   "source": [
    "**Randomforest**"
   ]
  },
  {
   "cell_type": "code",
   "execution_count": 14,
   "metadata": {},
   "outputs": [
    {
     "name": "stdout",
     "output_type": "stream",
     "text": [
      "Качество: 0.8133748055987559\n"
     ]
    }
   ],
   "source": [
    "model = RandomForestClassifier(max_depth=7, n_estimators=35, min_samples_leaf=2, random_state=123456)\n",
    "model.fit(train_df_features, train_df_target)\n",
    "accuracy = model.score(test_df_features, test_df_target)\n",
    "print(\"Качество:\", accuracy)"
   ]
  },
  {
   "cell_type": "markdown",
   "metadata": {},
   "source": [
    "**Logistic Regression**"
   ]
  },
  {
   "cell_type": "code",
   "execution_count": 15,
   "metadata": {},
   "outputs": [
    {
     "name": "stdout",
     "output_type": "stream",
     "text": [
      "Качество: 0.7278382581648523\n"
     ]
    }
   ],
   "source": [
    "model = LogisticRegression(random_state=123456)\n",
    "model.fit(train_df_features, train_df_target)\n",
    "accuracy = model.score(test_df_features, test_df_target)\n",
    "print(\"Качество:\", accuracy)"
   ]
  },
  {
   "cell_type": "markdown",
   "metadata": {},
   "source": [
    "**Итоговый вывод**\n",
    "\n",
    "\n",
    "В ходе проделанной работы:\n",
    "\n",
    "Изучены данные.\n",
    "\n",
    "Разбиты данные на выборки: обучающая, валидационная и тестовая.\n",
    "\n",
    "Исследованы модели классификации: Решающее дерево, Случайный лес и Логистическая регрессия.\n",
    "\n",
    "Найдены оптимальные параметры для каждой модели.\n",
    "\n",
    "Оценена точность обученной модели.\n",
    "\n",
    "Сделан вывод о том,  что лучшая модель - Randomforest\n"
   ]
  },
  {
   "cell_type": "code",
   "execution_count": null,
   "metadata": {},
   "outputs": [],
   "source": []
  }
 ],
 "metadata": {
  "ExecuteTimeLog": [
   {
    "duration": 1414,
    "start_time": "2022-01-28T18:00:22.591Z"
   },
   {
    "duration": 21,
    "start_time": "2022-01-28T18:01:24.588Z"
   },
   {
    "duration": 23,
    "start_time": "2022-01-28T18:01:51.034Z"
   },
   {
    "duration": 10,
    "start_time": "2022-01-28T18:02:08.037Z"
   },
   {
    "duration": 8,
    "start_time": "2022-01-28T18:02:27.881Z"
   },
   {
    "duration": 10,
    "start_time": "2022-01-28T18:03:14.475Z"
   },
   {
    "duration": 1286,
    "start_time": "2022-01-28T18:03:20.876Z"
   },
   {
    "duration": 22,
    "start_time": "2022-01-28T18:03:22.165Z"
   },
   {
    "duration": 9,
    "start_time": "2022-01-28T18:03:22.191Z"
   },
   {
    "duration": 42,
    "start_time": "2022-01-28T18:03:22.203Z"
   },
   {
    "duration": 11,
    "start_time": "2022-01-28T18:03:22.248Z"
   },
   {
    "duration": 9,
    "start_time": "2022-01-28T18:03:22.261Z"
   },
   {
    "duration": 35,
    "start_time": "2022-01-28T18:04:00.217Z"
   },
   {
    "duration": 13,
    "start_time": "2022-01-28T18:12:50.152Z"
   },
   {
    "duration": 12,
    "start_time": "2022-01-28T18:13:52.526Z"
   },
   {
    "duration": 8,
    "start_time": "2022-01-28T18:20:51.218Z"
   },
   {
    "duration": 130,
    "start_time": "2022-01-28T18:29:12.496Z"
   },
   {
    "duration": 137,
    "start_time": "2022-01-28T18:31:19.165Z"
   },
   {
    "duration": 415,
    "start_time": "2022-01-28T18:36:00.873Z"
   },
   {
    "duration": 253,
    "start_time": "2022-01-28T18:37:32.280Z"
   },
   {
    "duration": 1354,
    "start_time": "2022-01-28T18:38:38.310Z"
   },
   {
    "duration": 20,
    "start_time": "2022-01-28T18:38:39.667Z"
   },
   {
    "duration": 10,
    "start_time": "2022-01-28T18:38:39.689Z"
   },
   {
    "duration": 41,
    "start_time": "2022-01-28T18:38:39.701Z"
   },
   {
    "duration": 7,
    "start_time": "2022-01-28T18:38:39.745Z"
   },
   {
    "duration": 6,
    "start_time": "2022-01-28T18:38:39.755Z"
   },
   {
    "duration": 32,
    "start_time": "2022-01-28T18:38:39.763Z"
   },
   {
    "duration": 44,
    "start_time": "2022-01-28T18:38:39.798Z"
   },
   {
    "duration": 8,
    "start_time": "2022-01-28T18:38:39.845Z"
   },
   {
    "duration": 372,
    "start_time": "2022-01-28T18:38:39.855Z"
   },
   {
    "duration": 252,
    "start_time": "2022-01-28T18:41:55.933Z"
   },
   {
    "duration": 1286,
    "start_time": "2022-01-28T18:42:38.280Z"
   },
   {
    "duration": 23,
    "start_time": "2022-01-28T18:42:39.569Z"
   },
   {
    "duration": 11,
    "start_time": "2022-01-28T18:42:39.595Z"
   },
   {
    "duration": 42,
    "start_time": "2022-01-28T18:42:39.609Z"
   },
   {
    "duration": 11,
    "start_time": "2022-01-28T18:42:39.654Z"
   },
   {
    "duration": 8,
    "start_time": "2022-01-28T18:42:39.668Z"
   },
   {
    "duration": 76,
    "start_time": "2022-01-28T18:42:39.679Z"
   },
   {
    "duration": 12,
    "start_time": "2022-01-28T18:42:39.759Z"
   },
   {
    "duration": 8,
    "start_time": "2022-01-28T18:42:39.774Z"
   },
   {
    "duration": 664,
    "start_time": "2022-01-28T18:42:39.784Z"
   },
   {
    "duration": 239,
    "start_time": "2022-01-28T18:44:19.510Z"
   },
   {
    "duration": 22,
    "start_time": "2022-01-28T18:49:45.624Z"
   },
   {
    "duration": 1113,
    "start_time": "2022-01-28T18:53:43.032Z"
   },
   {
    "duration": 323,
    "start_time": "2022-01-28T18:58:11.260Z"
   },
   {
    "duration": 19,
    "start_time": "2022-01-28T19:00:54.475Z"
   },
   {
    "duration": 1305,
    "start_time": "2022-01-28T19:03:18.662Z"
   },
   {
    "duration": 20,
    "start_time": "2022-01-28T19:03:19.970Z"
   },
   {
    "duration": 8,
    "start_time": "2022-01-28T19:03:19.994Z"
   },
   {
    "duration": 37,
    "start_time": "2022-01-28T19:03:20.005Z"
   },
   {
    "duration": 11,
    "start_time": "2022-01-28T19:03:20.045Z"
   },
   {
    "duration": 8,
    "start_time": "2022-01-28T19:03:20.059Z"
   },
   {
    "duration": 73,
    "start_time": "2022-01-28T19:03:20.070Z"
   },
   {
    "duration": 11,
    "start_time": "2022-01-28T19:03:20.147Z"
   },
   {
    "duration": 9,
    "start_time": "2022-01-28T19:03:20.160Z"
   },
   {
    "duration": 231,
    "start_time": "2022-01-28T19:03:20.172Z"
   },
   {
    "duration": 1144,
    "start_time": "2022-01-28T19:03:20.405Z"
   },
   {
    "duration": 18,
    "start_time": "2022-01-28T19:03:21.551Z"
   },
   {
    "duration": 20,
    "start_time": "2022-01-28T19:04:22.312Z"
   },
   {
    "duration": 21,
    "start_time": "2022-01-28T19:04:31.143Z"
   },
   {
    "duration": 1696,
    "start_time": "2022-01-28T19:05:34.764Z"
   },
   {
    "duration": 21,
    "start_time": "2022-01-28T19:05:36.463Z"
   },
   {
    "duration": 9,
    "start_time": "2022-01-28T19:05:36.487Z"
   },
   {
    "duration": 44,
    "start_time": "2022-01-28T19:05:36.499Z"
   },
   {
    "duration": 9,
    "start_time": "2022-01-28T19:05:36.545Z"
   },
   {
    "duration": 9,
    "start_time": "2022-01-28T19:05:36.558Z"
   },
   {
    "duration": 76,
    "start_time": "2022-01-28T19:05:36.569Z"
   },
   {
    "duration": 18,
    "start_time": "2022-01-28T19:05:36.648Z"
   },
   {
    "duration": 9,
    "start_time": "2022-01-28T19:05:36.670Z"
   },
   {
    "duration": 279,
    "start_time": "2022-01-28T19:05:36.682Z"
   },
   {
    "duration": 1580,
    "start_time": "2022-01-28T19:05:36.964Z"
   },
   {
    "duration": 20,
    "start_time": "2022-01-28T19:05:38.546Z"
   },
   {
    "duration": 21,
    "start_time": "2022-01-28T19:06:45.014Z"
   },
   {
    "duration": 388,
    "start_time": "2022-01-28T19:12:42.387Z"
   },
   {
    "duration": 235,
    "start_time": "2022-01-28T19:18:03.304Z"
   },
   {
    "duration": 268,
    "start_time": "2022-01-28T19:18:10.431Z"
   },
   {
    "duration": 16,
    "start_time": "2022-01-28T19:18:17.560Z"
   },
   {
    "duration": 14,
    "start_time": "2022-01-28T19:19:29.096Z"
   },
   {
    "duration": 12,
    "start_time": "2022-01-28T19:20:10.077Z"
   },
   {
    "duration": 64,
    "start_time": "2022-01-28T19:22:28.633Z"
   },
   {
    "duration": 21,
    "start_time": "2022-01-28T19:23:25.823Z"
   },
   {
    "duration": 1351,
    "start_time": "2022-01-28T19:32:17.916Z"
   },
   {
    "duration": 21,
    "start_time": "2022-01-28T19:32:19.270Z"
   },
   {
    "duration": 10,
    "start_time": "2022-01-28T19:32:19.294Z"
   },
   {
    "duration": 35,
    "start_time": "2022-01-28T19:32:19.306Z"
   },
   {
    "duration": 11,
    "start_time": "2022-01-28T19:32:19.344Z"
   },
   {
    "duration": 7,
    "start_time": "2022-01-28T19:32:19.358Z"
   },
   {
    "duration": 76,
    "start_time": "2022-01-28T19:32:19.368Z"
   },
   {
    "duration": 13,
    "start_time": "2022-01-28T19:32:19.449Z"
   },
   {
    "duration": 8,
    "start_time": "2022-01-28T19:32:19.465Z"
   },
   {
    "duration": 255,
    "start_time": "2022-01-28T19:32:19.477Z"
   },
   {
    "duration": 1164,
    "start_time": "2022-01-28T19:32:19.734Z"
   },
   {
    "duration": 38,
    "start_time": "2022-01-28T19:32:20.901Z"
   },
   {
    "duration": 14,
    "start_time": "2022-01-28T19:32:20.942Z"
   },
   {
    "duration": 84,
    "start_time": "2022-01-28T19:32:20.959Z"
   },
   {
    "duration": 18,
    "start_time": "2022-01-28T19:32:21.046Z"
   },
   {
    "duration": 9,
    "start_time": "2022-01-28T19:34:16.225Z"
   },
   {
    "duration": 397,
    "start_time": "2022-01-28T19:37:36.077Z"
   },
   {
    "duration": 13,
    "start_time": "2022-01-28T19:54:01.071Z"
   },
   {
    "duration": 7,
    "start_time": "2022-01-28T19:55:02.909Z"
   },
   {
    "duration": 20,
    "start_time": "2022-01-28T19:56:58.514Z"
   },
   {
    "duration": 19,
    "start_time": "2022-01-28T19:57:01.005Z"
   },
   {
    "duration": 1304,
    "start_time": "2022-01-28T19:57:05.152Z"
   },
   {
    "duration": 20,
    "start_time": "2022-01-28T19:57:06.459Z"
   },
   {
    "duration": 9,
    "start_time": "2022-01-28T19:57:06.482Z"
   },
   {
    "duration": 39,
    "start_time": "2022-01-28T19:57:06.494Z"
   },
   {
    "duration": 10,
    "start_time": "2022-01-28T19:57:06.536Z"
   },
   {
    "duration": 9,
    "start_time": "2022-01-28T19:57:06.548Z"
   },
   {
    "duration": 31,
    "start_time": "2022-01-28T19:57:06.560Z"
   },
   {
    "duration": 48,
    "start_time": "2022-01-28T19:57:06.594Z"
   },
   {
    "duration": 7,
    "start_time": "2022-01-28T19:57:06.645Z"
   },
   {
    "duration": 233,
    "start_time": "2022-01-28T19:57:06.655Z"
   },
   {
    "duration": 1133,
    "start_time": "2022-01-28T19:57:06.891Z"
   },
   {
    "duration": 26,
    "start_time": "2022-01-28T19:57:08.033Z"
   },
   {
    "duration": 20,
    "start_time": "2022-01-28T19:57:08.062Z"
   },
   {
    "duration": 48,
    "start_time": "2022-01-28T19:57:08.084Z"
   },
   {
    "duration": 19,
    "start_time": "2022-01-28T19:57:08.135Z"
   },
   {
    "duration": 11,
    "start_time": "2022-01-28T19:57:08.156Z"
   },
   {
    "duration": 8,
    "start_time": "2022-01-28T19:57:08.170Z"
   },
   {
    "duration": 389,
    "start_time": "2022-01-28T19:57:13.700Z"
   },
   {
    "duration": 1380,
    "start_time": "2022-01-28T19:59:06.388Z"
   },
   {
    "duration": 20,
    "start_time": "2022-01-28T19:59:07.770Z"
   },
   {
    "duration": 9,
    "start_time": "2022-01-28T19:59:07.793Z"
   },
   {
    "duration": 37,
    "start_time": "2022-01-28T19:59:07.804Z"
   },
   {
    "duration": 8,
    "start_time": "2022-01-28T19:59:07.843Z"
   },
   {
    "duration": 7,
    "start_time": "2022-01-28T19:59:07.853Z"
   },
   {
    "duration": 34,
    "start_time": "2022-01-28T19:59:07.863Z"
   },
   {
    "duration": 39,
    "start_time": "2022-01-28T19:59:07.901Z"
   },
   {
    "duration": 9,
    "start_time": "2022-01-28T19:59:07.943Z"
   },
   {
    "duration": 234,
    "start_time": "2022-01-28T19:59:07.954Z"
   },
   {
    "duration": 1134,
    "start_time": "2022-01-28T19:59:08.191Z"
   },
   {
    "duration": 20,
    "start_time": "2022-01-28T19:59:09.332Z"
   },
   {
    "duration": 14,
    "start_time": "2022-01-28T19:59:09.354Z"
   },
   {
    "duration": 80,
    "start_time": "2022-01-28T19:59:09.371Z"
   },
   {
    "duration": 17,
    "start_time": "2022-01-28T19:59:09.454Z"
   },
   {
    "duration": 4,
    "start_time": "2022-01-28T19:59:09.474Z"
   },
   {
    "duration": 375,
    "start_time": "2022-01-28T19:59:09.481Z"
   },
   {
    "duration": -36,
    "start_time": "2022-01-28T19:59:09.895Z"
   },
   {
    "duration": 1322,
    "start_time": "2022-01-28T20:04:50.845Z"
   },
   {
    "duration": 20,
    "start_time": "2022-01-28T20:04:52.169Z"
   },
   {
    "duration": 10,
    "start_time": "2022-01-28T20:04:52.199Z"
   },
   {
    "duration": 29,
    "start_time": "2022-01-28T20:04:52.211Z"
   },
   {
    "duration": 9,
    "start_time": "2022-01-28T20:04:52.242Z"
   },
   {
    "duration": 7,
    "start_time": "2022-01-28T20:04:52.253Z"
   },
   {
    "duration": 35,
    "start_time": "2022-01-28T20:04:52.262Z"
   },
   {
    "duration": 40,
    "start_time": "2022-01-28T20:04:52.300Z"
   },
   {
    "duration": 10,
    "start_time": "2022-01-28T20:04:52.343Z"
   },
   {
    "duration": 229,
    "start_time": "2022-01-28T20:04:52.356Z"
   },
   {
    "duration": 69071,
    "start_time": "2022-01-28T20:04:52.587Z"
   },
   {
    "duration": 19,
    "start_time": "2022-01-28T20:06:01.660Z"
   },
   {
    "duration": 21,
    "start_time": "2022-01-28T20:06:01.682Z"
   },
   {
    "duration": 89,
    "start_time": "2022-01-28T20:06:01.706Z"
   },
   {
    "duration": 25,
    "start_time": "2022-01-28T20:06:01.798Z"
   },
   {
    "duration": 1342,
    "start_time": "2022-01-28T20:06:35.917Z"
   },
   {
    "duration": 20,
    "start_time": "2022-01-28T20:06:37.262Z"
   },
   {
    "duration": 8,
    "start_time": "2022-01-28T20:06:37.285Z"
   },
   {
    "duration": 36,
    "start_time": "2022-01-28T20:06:37.296Z"
   },
   {
    "duration": 8,
    "start_time": "2022-01-28T20:06:37.335Z"
   },
   {
    "duration": 7,
    "start_time": "2022-01-28T20:06:37.346Z"
   },
   {
    "duration": 32,
    "start_time": "2022-01-28T20:06:37.355Z"
   },
   {
    "duration": 44,
    "start_time": "2022-01-28T20:06:37.390Z"
   },
   {
    "duration": 8,
    "start_time": "2022-01-28T20:06:37.438Z"
   },
   {
    "duration": 235,
    "start_time": "2022-01-28T20:06:37.448Z"
   },
   {
    "duration": 68186,
    "start_time": "2022-01-28T20:06:37.686Z"
   },
   {
    "duration": 21,
    "start_time": "2022-01-28T20:07:45.875Z"
   },
   {
    "duration": 36,
    "start_time": "2022-01-28T20:07:45.899Z"
   },
   {
    "duration": 58,
    "start_time": "2022-01-28T20:07:45.938Z"
   },
   {
    "duration": 42,
    "start_time": "2022-01-28T20:07:45.999Z"
   },
   {
    "duration": 1324,
    "start_time": "2022-01-28T20:09:19.743Z"
   },
   {
    "duration": 19,
    "start_time": "2022-01-28T20:09:21.070Z"
   },
   {
    "duration": 8,
    "start_time": "2022-01-28T20:09:21.093Z"
   },
   {
    "duration": 36,
    "start_time": "2022-01-28T20:09:21.104Z"
   },
   {
    "duration": 9,
    "start_time": "2022-01-28T20:09:21.142Z"
   },
   {
    "duration": 14,
    "start_time": "2022-01-28T20:09:21.153Z"
   },
   {
    "duration": 61,
    "start_time": "2022-01-28T20:09:21.170Z"
   },
   {
    "duration": 11,
    "start_time": "2022-01-28T20:09:21.233Z"
   },
   {
    "duration": 7,
    "start_time": "2022-01-28T20:09:21.248Z"
   },
   {
    "duration": 244,
    "start_time": "2022-01-28T20:09:21.258Z"
   },
   {
    "duration": 102900,
    "start_time": "2022-01-28T20:09:21.504Z"
   },
   {
    "duration": 30,
    "start_time": "2022-01-28T20:11:04.407Z"
   },
   {
    "duration": 12,
    "start_time": "2022-01-28T20:11:04.439Z"
   },
   {
    "duration": 81,
    "start_time": "2022-01-28T20:11:04.453Z"
   },
   {
    "duration": 19,
    "start_time": "2022-01-28T20:11:04.536Z"
   },
   {
    "duration": 13,
    "start_time": "2022-01-28T20:11:46.724Z"
   },
   {
    "duration": 66,
    "start_time": "2022-01-28T20:11:49.881Z"
   },
   {
    "duration": 19,
    "start_time": "2022-01-28T20:11:54.490Z"
   },
   {
    "duration": 152,
    "start_time": "2022-01-28T20:14:22.784Z"
   },
   {
    "duration": 19,
    "start_time": "2022-01-28T20:14:26.344Z"
   },
   {
    "duration": 1291,
    "start_time": "2022-01-28T20:19:37.276Z"
   },
   {
    "duration": 20,
    "start_time": "2022-01-28T20:19:38.569Z"
   },
   {
    "duration": 10,
    "start_time": "2022-01-28T20:19:38.592Z"
   },
   {
    "duration": 33,
    "start_time": "2022-01-28T20:19:38.604Z"
   },
   {
    "duration": 11,
    "start_time": "2022-01-28T20:19:38.639Z"
   },
   {
    "duration": 7,
    "start_time": "2022-01-28T20:19:38.653Z"
   },
   {
    "duration": 37,
    "start_time": "2022-01-28T20:19:38.663Z"
   },
   {
    "duration": 42,
    "start_time": "2022-01-28T20:19:38.703Z"
   },
   {
    "duration": 8,
    "start_time": "2022-01-28T20:19:38.749Z"
   },
   {
    "duration": 237,
    "start_time": "2022-01-28T20:19:38.760Z"
   },
   {
    "duration": 120228,
    "start_time": "2022-01-28T20:19:39.000Z"
   },
   {
    "duration": 18,
    "start_time": "2022-01-28T20:21:39.233Z"
   },
   {
    "duration": 13,
    "start_time": "2022-01-28T20:21:39.253Z"
   },
   {
    "duration": 181,
    "start_time": "2022-01-28T20:21:39.268Z"
   },
   {
    "duration": 18,
    "start_time": "2022-01-28T20:21:39.452Z"
   },
   {
    "duration": 1364,
    "start_time": "2022-01-28T20:25:45.901Z"
   },
   {
    "duration": 20,
    "start_time": "2022-01-28T20:25:47.268Z"
   },
   {
    "duration": 9,
    "start_time": "2022-01-28T20:25:47.291Z"
   },
   {
    "duration": 38,
    "start_time": "2022-01-28T20:25:47.303Z"
   },
   {
    "duration": 8,
    "start_time": "2022-01-28T20:25:47.343Z"
   },
   {
    "duration": 7,
    "start_time": "2022-01-28T20:25:47.354Z"
   },
   {
    "duration": 36,
    "start_time": "2022-01-28T20:25:47.363Z"
   },
   {
    "duration": 11,
    "start_time": "2022-01-28T20:25:47.432Z"
   },
   {
    "duration": 8,
    "start_time": "2022-01-28T20:25:47.446Z"
   },
   {
    "duration": 230,
    "start_time": "2022-01-28T20:25:47.456Z"
   },
   {
    "duration": 82,
    "start_time": "2022-01-28T20:25:47.689Z"
   },
   {
    "duration": -458,
    "start_time": "2022-01-28T20:25:48.232Z"
   },
   {
    "duration": -461,
    "start_time": "2022-01-28T20:25:48.237Z"
   },
   {
    "duration": -461,
    "start_time": "2022-01-28T20:25:48.239Z"
   },
   {
    "duration": -461,
    "start_time": "2022-01-28T20:25:48.241Z"
   },
   {
    "duration": 84,
    "start_time": "2022-01-28T20:27:03.724Z"
   },
   {
    "duration": 101581,
    "start_time": "2022-01-28T20:27:41.224Z"
   },
   {
    "duration": 22,
    "start_time": "2022-01-28T20:30:00.418Z"
   },
   {
    "duration": 12,
    "start_time": "2022-01-28T20:30:09.812Z"
   },
   {
    "duration": 133,
    "start_time": "2022-01-28T20:30:19.779Z"
   },
   {
    "duration": 20,
    "start_time": "2022-01-28T20:30:23.668Z"
   },
   {
    "duration": 1330,
    "start_time": "2022-01-28T20:30:47.322Z"
   },
   {
    "duration": 20,
    "start_time": "2022-01-28T20:30:48.654Z"
   },
   {
    "duration": 9,
    "start_time": "2022-01-28T20:30:48.677Z"
   },
   {
    "duration": 21,
    "start_time": "2022-01-28T20:30:48.689Z"
   },
   {
    "duration": 24,
    "start_time": "2022-01-28T20:30:48.713Z"
   },
   {
    "duration": 10,
    "start_time": "2022-01-28T20:30:48.739Z"
   },
   {
    "duration": 34,
    "start_time": "2022-01-28T20:30:48.751Z"
   },
   {
    "duration": 10,
    "start_time": "2022-01-28T20:30:48.788Z"
   },
   {
    "duration": 37,
    "start_time": "2022-01-28T20:30:48.801Z"
   },
   {
    "duration": 230,
    "start_time": "2022-01-28T20:30:48.841Z"
   },
   {
    "duration": 101905,
    "start_time": "2022-01-28T20:30:49.074Z"
   },
   {
    "duration": 21,
    "start_time": "2022-01-28T20:32:30.982Z"
   },
   {
    "duration": 35,
    "start_time": "2022-01-28T20:32:31.006Z"
   },
   {
    "duration": 156,
    "start_time": "2022-01-28T20:32:31.044Z"
   },
   {
    "duration": 40,
    "start_time": "2022-01-28T20:32:31.203Z"
   },
   {
    "duration": 1369,
    "start_time": "2022-01-28T20:37:25.608Z"
   },
   {
    "duration": 24,
    "start_time": "2022-01-28T20:37:26.981Z"
   },
   {
    "duration": 15,
    "start_time": "2022-01-28T20:37:27.008Z"
   },
   {
    "duration": 35,
    "start_time": "2022-01-28T20:37:27.031Z"
   },
   {
    "duration": 11,
    "start_time": "2022-01-28T20:37:27.069Z"
   },
   {
    "duration": 10,
    "start_time": "2022-01-28T20:37:27.083Z"
   },
   {
    "duration": 49,
    "start_time": "2022-01-28T20:37:27.132Z"
   },
   {
    "duration": 15,
    "start_time": "2022-01-28T20:37:27.185Z"
   },
   {
    "duration": 35,
    "start_time": "2022-01-28T20:37:27.204Z"
   },
   {
    "duration": 236,
    "start_time": "2022-01-28T20:37:27.242Z"
   },
   {
    "duration": 101070,
    "start_time": "2022-01-28T20:37:27.480Z"
   },
   {
    "duration": 19,
    "start_time": "2022-01-28T20:39:08.552Z"
   },
   {
    "duration": 14,
    "start_time": "2022-01-28T20:39:08.573Z"
   },
   {
    "duration": 169,
    "start_time": "2022-01-28T20:39:08.589Z"
   },
   {
    "duration": 19,
    "start_time": "2022-01-28T20:39:08.761Z"
   },
   {
    "duration": 296,
    "start_time": "2022-01-29T08:10:58.829Z"
   },
   {
    "duration": 1143,
    "start_time": "2022-01-29T08:11:05.984Z"
   },
   {
    "duration": 20,
    "start_time": "2022-01-29T08:11:07.129Z"
   },
   {
    "duration": 8,
    "start_time": "2022-01-29T08:11:07.151Z"
   },
   {
    "duration": 16,
    "start_time": "2022-01-29T08:11:07.161Z"
   },
   {
    "duration": 6,
    "start_time": "2022-01-29T08:11:07.179Z"
   },
   {
    "duration": 6,
    "start_time": "2022-01-29T08:11:07.187Z"
   },
   {
    "duration": 30,
    "start_time": "2022-01-29T08:11:07.195Z"
   },
   {
    "duration": 39,
    "start_time": "2022-01-29T08:11:07.226Z"
   },
   {
    "duration": 5,
    "start_time": "2022-01-29T08:11:07.269Z"
   },
   {
    "duration": 161,
    "start_time": "2022-01-29T08:11:07.276Z"
   },
   {
    "duration": 72460,
    "start_time": "2022-01-29T08:11:07.439Z"
   },
   {
    "duration": 11,
    "start_time": "2022-01-29T08:12:19.901Z"
   },
   {
    "duration": 23,
    "start_time": "2022-01-29T08:12:19.914Z"
   },
   {
    "duration": 108,
    "start_time": "2022-01-29T08:12:19.938Z"
   },
   {
    "duration": 12,
    "start_time": "2022-01-29T08:12:20.048Z"
   },
   {
    "duration": 461,
    "start_time": "2022-01-29T08:12:20.062Z"
   },
   {
    "duration": 7,
    "start_time": "2022-01-29T08:22:57.853Z"
   },
   {
    "duration": 6,
    "start_time": "2022-01-29T08:23:21.833Z"
   },
   {
    "duration": 7,
    "start_time": "2022-01-29T08:23:49.115Z"
   },
   {
    "duration": 1140,
    "start_time": "2022-01-29T08:26:57.039Z"
   },
   {
    "duration": 27,
    "start_time": "2022-01-29T08:26:58.182Z"
   },
   {
    "duration": 20,
    "start_time": "2022-01-29T08:26:58.211Z"
   },
   {
    "duration": 34,
    "start_time": "2022-01-29T08:26:58.233Z"
   },
   {
    "duration": 29,
    "start_time": "2022-01-29T08:26:58.268Z"
   },
   {
    "duration": 27,
    "start_time": "2022-01-29T08:26:58.299Z"
   },
   {
    "duration": 38,
    "start_time": "2022-01-29T08:26:58.328Z"
   },
   {
    "duration": 22,
    "start_time": "2022-01-29T08:26:58.368Z"
   },
   {
    "duration": 31,
    "start_time": "2022-01-29T08:26:58.391Z"
   },
   {
    "duration": 155,
    "start_time": "2022-01-29T08:26:58.423Z"
   },
   {
    "duration": 68181,
    "start_time": "2022-01-29T08:26:58.580Z"
   },
   {
    "duration": 10,
    "start_time": "2022-01-29T08:28:06.762Z"
   },
   {
    "duration": 8,
    "start_time": "2022-01-29T08:28:06.774Z"
   },
   {
    "duration": 113,
    "start_time": "2022-01-29T08:28:06.784Z"
   },
   {
    "duration": 11,
    "start_time": "2022-01-29T08:28:06.898Z"
   },
   {
    "duration": 6,
    "start_time": "2022-01-29T08:28:06.911Z"
   },
   {
    "duration": 4,
    "start_time": "2022-01-29T08:28:06.919Z"
   },
   {
    "duration": 6,
    "start_time": "2022-01-29T08:28:06.925Z"
   }
  ],
  "kernelspec": {
   "display_name": "Python 3",
   "language": "python",
   "name": "python3"
  },
  "language_info": {
   "codemirror_mode": {
    "name": "ipython",
    "version": 3
   },
   "file_extension": ".py",
   "mimetype": "text/x-python",
   "name": "python",
   "nbconvert_exporter": "python",
   "pygments_lexer": "ipython3",
   "version": "3.8.8"
  },
  "toc": {
   "base_numbering": 1,
   "nav_menu": {},
   "number_sections": true,
   "sideBar": true,
   "skip_h1_title": true,
   "title_cell": "Table of Contents",
   "title_sidebar": "Contents",
   "toc_cell": false,
   "toc_position": {},
   "toc_section_display": true,
   "toc_window_display": false
  }
 },
 "nbformat": 4,
 "nbformat_minor": 2
}
